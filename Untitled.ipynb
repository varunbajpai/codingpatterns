{
 "cells": [
  {
   "cell_type": "code",
   "execution_count": 9,
   "id": "9a9b0600",
   "metadata": {},
   "outputs": [],
   "source": [
    "d = set()\n",
    "d.add((0,0))"
   ]
  },
  {
   "cell_type": "code",
   "execution_count": 15,
   "id": "72a33742",
   "metadata": {},
   "outputs": [
    {
     "ename": "TypeError",
     "evalue": "'str' object does not support item assignment",
     "output_type": "error",
     "traceback": [
      "\u001b[0;31m---------------------------------------------------------------------------\u001b[0m",
      "\u001b[0;31mTypeError\u001b[0m                                 Traceback (most recent call last)",
      "Cell \u001b[0;32mIn[15], line 2\u001b[0m\n\u001b[1;32m      1\u001b[0m a \u001b[38;5;241m=\u001b[39m \u001b[38;5;124m'\u001b[39m\u001b[38;5;124mads\u001b[39m\u001b[38;5;124m'\u001b[39m\n\u001b[0;32m----> 2\u001b[0m \u001b[43ma\u001b[49m\u001b[43m[\u001b[49m\u001b[38;5;241;43m0\u001b[39;49m\u001b[43m]\u001b[49m \u001b[38;5;241m=\u001b[39m \u001b[38;5;124m'\u001b[39m\u001b[38;5;124mg\u001b[39m\u001b[38;5;124m'\u001b[39m\n",
      "\u001b[0;31mTypeError\u001b[0m: 'str' object does not support item assignment"
     ]
    }
   ],
   "source": [
    "a = 'ads'\n",
    "a[0] = 'g'"
   ]
  },
  {
   "cell_type": "code",
   "execution_count": 11,
   "id": "184b7332",
   "metadata": {},
   "outputs": [
    {
     "data": {
      "text/plain": [
       "True"
      ]
     },
     "execution_count": 11,
     "metadata": {},
     "output_type": "execute_result"
    }
   ],
   "source": [
    "(0,0) in d"
   ]
  },
  {
   "cell_type": "code",
   "execution_count": 7,
   "id": "6167c9d0",
   "metadata": {},
   "outputs": [],
   "source": [
    "grid = [[\"1\"],[\"2\"]]"
   ]
  },
  {
   "cell_type": "code",
   "execution_count": 8,
   "id": "4e8cd0f5",
   "metadata": {},
   "outputs": [
    {
     "data": {
      "text/plain": [
       "1"
      ]
     },
     "execution_count": 8,
     "metadata": {},
     "output_type": "execute_result"
    }
   ],
   "source": [
    "len(grid[0])"
   ]
  },
  {
   "cell_type": "code",
   "execution_count": 9,
   "id": "81a8ceb1",
   "metadata": {},
   "outputs": [
    {
     "data": {
      "text/plain": [
       "2"
      ]
     },
     "execution_count": 9,
     "metadata": {},
     "output_type": "execute_result"
    }
   ],
   "source": [
    "len(grid)"
   ]
  },
  {
   "cell_type": "code",
   "execution_count": 13,
   "id": "6113888c",
   "metadata": {},
   "outputs": [
    {
     "data": {
      "text/plain": [
       "[3, 2, 1]"
      ]
     },
     "execution_count": 13,
     "metadata": {},
     "output_type": "execute_result"
    }
   ],
   "source": [
    "a = [1,2,3]\n",
    "a[::-1]"
   ]
  },
  {
   "cell_type": "code",
   "execution_count": 10,
   "id": "3e66d407",
   "metadata": {},
   "outputs": [
    {
     "name": "stdout",
     "output_type": "stream",
     "text": [
      "1\n",
      "2\n"
     ]
    }
   ],
   "source": [
    "for i in range(len(grid)):\n",
    "    for j in range(len(grid[0])):\n",
    "        print(grid[i][j])"
   ]
  },
  {
   "cell_type": "code",
   "execution_count": 22,
   "id": "d34642ad",
   "metadata": {},
   "outputs": [],
   "source": [
    "class Solution:\n",
    "    ans = []\n",
    "    def perm(self, curr, ans):\n",
    "        if len(ans) == 3:\n",
    "            if len(set(ans)) == len(curr):\n",
    "                print(ans)\n",
    "            return\n",
    "        for i in range(len(curr)):\n",
    "            ans.append(curr[i])\n",
    "            self.perm(curr, ans)\n",
    "            ans.remove(curr[i])\n",
    "        return ans"
   ]
  },
  {
   "cell_type": "code",
   "execution_count": 23,
   "id": "bd3f6902",
   "metadata": {},
   "outputs": [
    {
     "name": "stdout",
     "output_type": "stream",
     "text": [
      "['a', 'b', 'c']\n",
      "['c', 'a', 'b']\n",
      "['a', 'b', 'c']\n",
      "['b', 'c', 'a']\n",
      "['c', 'a', 'b']\n",
      "['c', 'b', 'a']\n"
     ]
    },
    {
     "data": {
      "text/plain": [
       "[]"
      ]
     },
     "execution_count": 23,
     "metadata": {},
     "output_type": "execute_result"
    }
   ],
   "source": [
    "Solution().perm(['a','b','c'],[])"
   ]
  },
  {
   "cell_type": "code",
   "execution_count": 2,
   "id": "2e715d34",
   "metadata": {},
   "outputs": [],
   "source": [
    "class TrieNode:\n",
    "    def __init__(self):\n",
    "        self.isWord = False\n",
    "        self.nodes = {}\n",
    "            \n",
    "class Trie:\n",
    "    def __init__(self):\n",
    "        self.root = TrieNode()\n",
    "\n",
    "    def insert(self, word: str) -> None:\n",
    "        cur = self.root;\n",
    "        for c in word:\n",
    "            if c not in cur.nodes:\n",
    "                cur.nodes[c] = TrieNode()\n",
    "            cur = cur.nodes[c]\n",
    "        cur.isWord = True;\n",
    "\n",
    "    def search(self, word: str) -> bool:\n",
    "        cur = self.root\n",
    "        for c in word:\n",
    "            if c not in cur.nodes:\n",
    "                return False\n",
    "            cur = cur.nodes[c]\n",
    "        return cur.isWord\n",
    "    \n",
    "    def startsWith(self, prefix: str) -> bool:\n",
    "        cur = self.root\n",
    "        for c in prefix:\n",
    "            if c not in cur.nodes:\n",
    "                return False\n",
    "            cur = cur.nodes[c]            \n",
    "        return True"
   ]
  },
  {
   "cell_type": "code",
   "execution_count": 3,
   "id": "9f7216c2",
   "metadata": {},
   "outputs": [],
   "source": [
    "trie = Trie()\n",
    "trie.insert(\"abc\")\n",
    "trie.insert(\"ded\")"
   ]
  },
  {
   "cell_type": "code",
   "execution_count": 4,
   "id": "57c3b863",
   "metadata": {},
   "outputs": [
    {
     "data": {
      "text/plain": [
       "False"
      ]
     },
     "execution_count": 4,
     "metadata": {},
     "output_type": "execute_result"
    }
   ],
   "source": [
    "trie.search(\"a\")"
   ]
  },
  {
   "cell_type": "code",
   "execution_count": 5,
   "id": "a132a0de",
   "metadata": {},
   "outputs": [
    {
     "data": {
      "text/plain": [
       "True"
      ]
     },
     "execution_count": 5,
     "metadata": {},
     "output_type": "execute_result"
    }
   ],
   "source": [
    "trie.search(\"abc\")"
   ]
  },
  {
   "cell_type": "code",
   "execution_count": 7,
   "id": "ac1fb331",
   "metadata": {},
   "outputs": [
    {
     "data": {
      "text/plain": [
       "True"
      ]
     },
     "execution_count": 7,
     "metadata": {},
     "output_type": "execute_result"
    }
   ],
   "source": [
    "trie.startsWith(\"a\")"
   ]
  },
  {
   "cell_type": "code",
   "execution_count": 1,
   "id": "8bfaf4a0",
   "metadata": {},
   "outputs": [],
   "source": [
    "# otherwise, you can implement a trie using only hash maps.\n",
    "class TrieNode:\n",
    "    def __init__(self):\n",
    "        # you can store data at nodes if you wish\n",
    "        self.data = None\n",
    "        self.children = {}\n",
    "\n",
    "def fn(words):\n",
    "    root = TrieNode()\n",
    "    for word in words:\n",
    "        curr = root\n",
    "        for c in word:\n",
    "            if c not in curr.children:\n",
    "                curr.children[c] = TrieNode()\n",
    "            curr = curr.children[c]\n",
    "        # at this point, you have a full word at curr\n",
    "        # you can perform more logic here to give curr an attribute if you want\n",
    "    \n",
    "    return root"
   ]
  },
  {
   "cell_type": "code",
   "execution_count": 4,
   "id": "b10d677c",
   "metadata": {},
   "outputs": [],
   "source": [
    "trie = fn(['abc','def','akb'])"
   ]
  },
  {
   "cell_type": "code",
   "execution_count": null,
   "id": "43840ca1",
   "metadata": {},
   "outputs": [],
   "source": []
  },
  {
   "cell_type": "code",
   "execution_count": 5,
   "id": "8357b413",
   "metadata": {},
   "outputs": [
    {
     "data": {
      "text/plain": [
       "dict_keys(['b', 'k'])"
      ]
     },
     "execution_count": 5,
     "metadata": {},
     "output_type": "execute_result"
    }
   ],
   "source": [
    "trie.children['a'].children.keys()"
   ]
  },
  {
   "cell_type": "code",
   "execution_count": 8,
   "id": "da2e4631",
   "metadata": {},
   "outputs": [
    {
     "name": "stdout",
     "output_type": "stream",
     "text": [
      "[1, 1, 2, 3, 4]\n",
      "[1, 1, 3, 3, 4]\n",
      "[1, 3, 3, 3, 4]\n",
      "Element 0 belongs to the set with representative 3\n",
      "Element 1 belongs to the set with representative 3\n",
      "Element 2 belongs to the set with representative 3\n",
      "Element 3 belongs to the set with representative 3\n",
      "Element 4 belongs to the set with representative 4\n"
     ]
    }
   ],
   "source": [
    "class DisjointSet: \n",
    "    def __init__(self, size): \n",
    "        self.parent = [i for i in range(size)] \n",
    "        self.rank = [0] * size \n",
    "  \n",
    "    # Function to find the representative (or the root node) of a set \n",
    "    def find(self, i): \n",
    "        # If i is not the representative of its set, recursively find the representative \n",
    "        if self.parent[i] != i: \n",
    "            self.parent[i] = self.find(self.parent[i])  # Path compression \n",
    "        return self.parent[i] \n",
    "  \n",
    "    # Unites the set that includes i and the set that includes j by rank \n",
    "    def union_by_rank(self, i, j): \n",
    "        # Find the representatives (or the root nodes) for the set that includes i and j \n",
    "        irep = self.find(i) \n",
    "        jrep = self.find(j) \n",
    "  \n",
    "        # Elements are in the same set, no need to unite anything \n",
    "        if irep == jrep: \n",
    "            return\n",
    "  \n",
    "        # Get the rank of i's tree \n",
    "        irank = self.rank[irep] \n",
    "  \n",
    "        # Get the rank of j's tree \n",
    "        jrank = self.rank[jrep] \n",
    "  \n",
    "        # If i's rank is less than j's rank \n",
    "        if irank < jrank: \n",
    "            # Move i under j \n",
    "            self.parent[irep] = jrep \n",
    "        # Else if j's rank is less than i's rank \n",
    "        elif jrank < irank: \n",
    "            # Move j under i \n",
    "            self.parent[jrep] = irep \n",
    "        # Else if their ranks are the same \n",
    "        else: \n",
    "            # Move i under j (doesn't matter which one goes where) \n",
    "            self.parent[irep] = jrep \n",
    "            # Increment the result tree's rank by 1 \n",
    "            self.rank[jrep] += 1\n",
    "        print(self.parent)\n",
    "        \n",
    "    def main(self): \n",
    "        # Example usage \n",
    "        size = 5\n",
    "        ds = DisjointSet(size) \n",
    "  \n",
    "        # Perform some union operations \n",
    "        ds.union_by_rank(0, 1) \n",
    "        ds.union_by_rank(2, 3) \n",
    "        ds.union_by_rank(1, 3) \n",
    "  \n",
    "        # Find the representative of each element \n",
    "        for i in range(size): \n",
    "            print(f\"Element {i} belongs to the set with representative {ds.find(i)}\") \n",
    "  \n",
    "  \n",
    "# Creating an instance and calling the main method \n",
    "ds = DisjointSet(size=5) \n",
    "ds.main() \n",
    "    "
   ]
  },
  {
   "cell_type": "code",
   "execution_count": 6,
   "id": "dda19019",
   "metadata": {},
   "outputs": [
    {
     "data": {
      "text/plain": [
       "[0, 1, 2, 3, 4]"
      ]
     },
     "execution_count": 6,
     "metadata": {},
     "output_type": "execute_result"
    }
   ],
   "source": [
    "ds.parent"
   ]
  },
  {
   "cell_type": "code",
   "execution_count": 7,
   "id": "ea24fa00",
   "metadata": {},
   "outputs": [
    {
     "data": {
      "text/plain": [
       "[0, 0, 0, 0, 0]"
      ]
     },
     "execution_count": 7,
     "metadata": {},
     "output_type": "execute_result"
    }
   ],
   "source": [
    "ds.rank"
   ]
  },
  {
   "cell_type": "code",
   "execution_count": null,
   "id": "4e905943",
   "metadata": {},
   "outputs": [],
   "source": []
  },
  {
   "cell_type": "code",
   "execution_count": null,
   "id": "6eb3d9bc",
   "metadata": {},
   "outputs": [],
   "source": []
  },
  {
   "cell_type": "code",
   "execution_count": 3,
   "id": "e6093734",
   "metadata": {},
   "outputs": [],
   "source": [
    "class DisjointSet:\n",
    "    def __init__(self, size):\n",
    "        self.representative = [i for i in range(size)]\n",
    "        self.rank = [0]*size\n",
    "    \n",
    "    def find(self,u):\n",
    "        if u == self.representative[u]:\n",
    "            return u\n",
    "        else:\n",
    "            return find(self.representative[u])\n",
    "        \n",
    "    def combine(self, u,v):\n",
    "        u = self.find(u)\n",
    "        v = self.find(v)\n",
    "        if u == v:\n",
    "            return\n",
    "        else:\n",
    "            self.representative[v] =u"
   ]
  },
  {
   "cell_type": "code",
   "execution_count": 1,
   "id": "cb449678",
   "metadata": {},
   "outputs": [
    {
     "ename": "SyntaxError",
     "evalue": "invalid syntax (42470605.py, line 1)",
     "output_type": "error",
     "traceback": [
      "\u001b[0;36m  Cell \u001b[0;32mIn[1], line 1\u001b[0;36m\u001b[0m\n\u001b[0;31m    Path Compression\u001b[0m\n\u001b[0m         ^\u001b[0m\n\u001b[0;31mSyntaxError\u001b[0m\u001b[0;31m:\u001b[0m invalid syntax\n"
     ]
    }
   ],
   "source": [
    "Path Compression\n",
    "\n",
    "int find(int u)\n",
    "{\n",
    "    if(u == representative[u])\n",
    "        return u;\n",
    "    \n",
    "    else\n",
    "        return representative[u] = find(representative[u]);\n",
    "}\n",
    "\n",
    "void combine (int u, int v)\n",
    "{\n",
    "    u = find(u);\n",
    "    v = find(v);\n",
    "    \n",
    "    if(u == v)\n",
    "        return;\n",
    "    \n",
    "    else\n",
    "    {\n",
    "        if(size[u] > size[v])\n",
    "        {\n",
    "            representative[v] = u;\n",
    "            size[u] += size[v];\n",
    "        }\n",
    "        \n",
    "        else\n",
    "        {\n",
    "            representative[u] = v;\n",
    "            size[v] += size[u];\n",
    "        }\n",
    "    \n",
    "    }\n",
    "}"
   ]
  },
  {
   "cell_type": "code",
   "execution_count": null,
   "id": "2e2826f0",
   "metadata": {},
   "outputs": [],
   "source": []
  }
 ],
 "metadata": {
  "kernelspec": {
   "display_name": "Python 3 (ipykernel)",
   "language": "python",
   "name": "python3"
  },
  "language_info": {
   "codemirror_mode": {
    "name": "ipython",
    "version": 3
   },
   "file_extension": ".py",
   "mimetype": "text/x-python",
   "name": "python",
   "nbconvert_exporter": "python",
   "pygments_lexer": "ipython3",
   "version": "3.10.12"
  }
 },
 "nbformat": 4,
 "nbformat_minor": 5
}
