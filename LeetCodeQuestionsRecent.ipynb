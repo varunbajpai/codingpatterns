{
 "cells": [
  {
   "cell_type": "markdown",
   "id": "50d174df",
   "metadata": {},
   "source": [
    "<H4> Detect Squares"
   ]
  },
  {
   "cell_type": "code",
   "execution_count": 1,
   "id": "a0027c00",
   "metadata": {},
   "outputs": [
    {
     "data": {
      "text/plain": [
       "\"\\nIntuition\\n\\nUse a hashmap to add and count the points.\\n\\nWe are given a query point and need to choose the other three points and find the number of squares with a positive area.\\n\\nFor a square, we need four points. 1st point P1 is the query point\\nSearch for a diagonal point P2 in the hashmap. P1 and P2 can form a diagonal if the width and height difference is the same i.e P1x - P2x == P1y - P2y. We can get the other two points as:\\nP3 = P1x - P2y\\nP4 = P2x - P1y\\n\\nFor positive area, the points shouldn't be in the same spot. No need to check all points, only check the x or y coordinates of P1 and P2.\\nApproach\\n\\ninit()\\n\\n    create a hashmap\\n    hashmap key = point coordinates i.e x, y and value = frequency\\n\\nadd()\\n\\n    increment the count of the point(x, y) in the hashmap\\n    convert the point to tuple because the point is in the list form and list can't be used as a hashmap key\\n\\ncount()\\n\\n    set a result variable res=0 to count the number of squares\\n    get the coordinates x, y of the 1st point\\n    traverse the points hashmap\\n    for each point (x, y) and its count in the hashmap\\n        if the 2nd point is not at the same spot, the 1st & 2nd points are diagonal, and the 3rd & 4th points are in the hashmap, we can create a square\\n            multiply the count of the three points (2nd, 3rd, and 4th) to get the number of squares and update the res\\n            no need to multiply all 4 points count because the count of the 1st point (query point) is always 1\\n    return res\\n\\nComplexity\\n\\n    Time complexity:\\n        init() O(1)\\n        add() O(1)\\n        count O(hashmap iteration) → O(hashmap size) → O(n)\\n\\n    Space complexity:\\n        init() O(1)\\n        add() O(1)\\n        count O(1)\\n        O(1) for all operations because the functions don't need extra space for the computation. Size of hashmap will be n after n calls to add()\\n\""
      ]
     },
     "execution_count": 1,
     "metadata": {},
     "output_type": "execute_result"
    }
   ],
   "source": [
    "'''\n",
    "Intuition\n",
    "\n",
    "Use a hashmap to add and count the points.\n",
    "\n",
    "We are given a query point and need to choose the other three points and find the number of squares with a positive area.\n",
    "\n",
    "For a square, we need four points. 1st point P1 is the query point\n",
    "Search for a diagonal point P2 in the hashmap. P1 and P2 can form a diagonal if the width and height difference is the same i.e P1x - P2x == P1y - P2y. We can get the other two points as:\n",
    "P3 = P1x - P2y\n",
    "P4 = P2x - P1y\n",
    "\n",
    "For positive area, the points shouldn't be in the same spot. No need to check all points, only check the x or y coordinates of P1 and P2.\n",
    "Approach\n",
    "\n",
    "init()\n",
    "\n",
    "    create a hashmap\n",
    "    hashmap key = point coordinates i.e x, y and value = frequency\n",
    "\n",
    "add()\n",
    "\n",
    "    increment the count of the point(x, y) in the hashmap\n",
    "    convert the point to tuple because the point is in the list form and list can't be used as a hashmap key\n",
    "\n",
    "count()\n",
    "\n",
    "    set a result variable res=0 to count the number of squares\n",
    "    get the coordinates x, y of the 1st point\n",
    "    traverse the points hashmap\n",
    "    for each point (x, y) and its count in the hashmap\n",
    "        if the 2nd point is not at the same spot, the 1st & 2nd points are diagonal, and the 3rd & 4th points are in the hashmap, we can create a square\n",
    "            multiply the count of the three points (2nd, 3rd, and 4th) to get the number of squares and update the res\n",
    "            no need to multiply all 4 points count because the count of the 1st point (query point) is always 1\n",
    "    return res\n",
    "\n",
    "Complexity\n",
    "\n",
    "    Time complexity:\n",
    "        init() O(1)\n",
    "        add() O(1)\n",
    "        count O(hashmap iteration) → O(hashmap size) → O(n)\n",
    "\n",
    "    Space complexity:\n",
    "        init() O(1)\n",
    "        add() O(1)\n",
    "        count O(1)\n",
    "        O(1) for all operations because the functions don't need extra space for the computation. Size of hashmap will be n after n calls to add()\n",
    "'''"
   ]
  },
  {
   "cell_type": "code",
   "execution_count": 3,
   "id": "66ab51bc",
   "metadata": {},
   "outputs": [],
   "source": [
    "from typing import List\n",
    "class DetectSquares:\n",
    "\n",
    "    def __init__(self):\n",
    "        self.points = defaultdict(int)\n",
    "\n",
    "    def add(self, point: List[int]) -> None:\n",
    "        self.points[tuple(point)] += 1\n",
    "\n",
    "    def count(self, point: List[int]) -> int:\n",
    "        res = 0\n",
    "        px, py = point\n",
    "        for (x, y), count in self.points.items():\n",
    "            if x != px and abs(px - x) == abs(py - y) and (px, y) in self.points and (x, py) in self.points:\n",
    "                res += self.points[(px, y)] * self.points[(x, py)] * count\n",
    "        return res\n",
    "# Your DetectSquares object will be instantiated and called as such:\n",
    "# obj = DetectSquares()\n",
    "# obj.add(point)\n",
    "# param_2 = obj.count(point)"
   ]
  },
  {
   "cell_type": "code",
   "execution_count": null,
   "id": "d5d4c167",
   "metadata": {},
   "outputs": [],
   "source": []
  }
 ],
 "metadata": {
  "kernelspec": {
   "display_name": "Python 3 (ipykernel)",
   "language": "python",
   "name": "python3"
  },
  "language_info": {
   "codemirror_mode": {
    "name": "ipython",
    "version": 3
   },
   "file_extension": ".py",
   "mimetype": "text/x-python",
   "name": "python",
   "nbconvert_exporter": "python",
   "pygments_lexer": "ipython3",
   "version": "3.10.12"
  }
 },
 "nbformat": 4,
 "nbformat_minor": 5
}
