{
 "cells": [
  {
   "cell_type": "markdown",
   "id": "8f899b27",
   "metadata": {},
   "source": [
    "<H2>Coding patterns<H2>"
   ]
  },
  {
   "cell_type": "code",
   "execution_count": null,
   "id": "03c51c92",
   "metadata": {},
   "outputs": [],
   "source": []
  },
  {
   "cell_type": "code",
   "execution_count": null,
   "id": "af0cf191",
   "metadata": {},
   "outputs": [],
   "source": [
    "from typing import List"
   ]
  },
  {
   "cell_type": "markdown",
   "id": "fc17b28d",
   "metadata": {},
   "source": [
    "<H4>Two pointers: one input, opposite ends"
   ]
  },
  {
   "cell_type": "code",
   "execution_count": null,
   "id": "fe0f3728",
   "metadata": {},
   "outputs": [],
   "source": [
    "def fn(arr):\n",
    "    left = ans = 0\n",
    "    right = len(arr) - 1\n",
    "\n",
    "    while left < right:\n",
    "        # do some logic here with left and right\n",
    "        if CONDITION:\n",
    "            left += 1\n",
    "        else:\n",
    "            right -= 1\n",
    "    \n",
    "    return ans"
   ]
  },
  {
   "cell_type": "markdown",
   "id": "e966fb95",
   "metadata": {},
   "source": [
    "<H4> Two pointers: two inputs, exhaust both"
   ]
  },
  {
   "cell_type": "code",
   "execution_count": null,
   "id": "179fb5df",
   "metadata": {},
   "outputs": [],
   "source": [
    "def fn(arr1, arr2):\n",
    "    i = j = ans = 0\n",
    "\n",
    "    while i < len(arr1) and j < len(arr2):\n",
    "        # do some logic here\n",
    "        if CONDITION:\n",
    "            i += 1\n",
    "        else:\n",
    "            j += 1\n",
    "    \n",
    "    while i < len(arr1):\n",
    "        # do logic\n",
    "        i += 1\n",
    "    \n",
    "    while j < len(arr2):\n",
    "        # do logic\n",
    "        j += 1\n",
    "    \n",
    "    return ans"
   ]
  },
  {
   "cell_type": "markdown",
   "id": "a40405ae",
   "metadata": {},
   "source": [
    "<H4> Sliding window"
   ]
  },
  {
   "cell_type": "code",
   "execution_count": null,
   "id": "5939d195",
   "metadata": {},
   "outputs": [],
   "source": [
    "def fn(arr):\n",
    "    left = ans = curr = 0\n",
    "\n",
    "    for right in range(len(arr)):\n",
    "        # do logic here to add arr[right] to curr\n",
    "\n",
    "        while WINDOW_CONDITION_BROKEN:\n",
    "            # remove arr[left] from curr\n",
    "            left += 1\n",
    "\n",
    "        # update ans\n",
    "    \n",
    "    return ans"
   ]
  },
  {
   "cell_type": "markdown",
   "id": "7568ae72",
   "metadata": {},
   "source": [
    "<H4> Build a prefix sum"
   ]
  },
  {
   "cell_type": "code",
   "execution_count": null,
   "id": "cbfe79aa",
   "metadata": {},
   "outputs": [],
   "source": [
    "def fn(arr):\n",
    "    prefix = [arr[0]]\n",
    "    for i in range(1, len(arr)):\n",
    "        prefix.append(prefix[-1] + arr[i])\n",
    "    \n",
    "    return prefix"
   ]
  },
  {
   "cell_type": "markdown",
   "id": "1b3480cb",
   "metadata": {},
   "source": [
    "<H4> Efficient string building"
   ]
  },
  {
   "cell_type": "code",
   "execution_count": null,
   "id": "c7ff4650",
   "metadata": {},
   "outputs": [],
   "source": [
    "# arr is a list of characters\n",
    "def fn(arr):\n",
    "    ans = []\n",
    "    for c in arr:\n",
    "        ans.append(c)\n",
    "    \n",
    "    return \"\".join(ans)"
   ]
  },
  {
   "cell_type": "markdown",
   "id": "dec57b6c",
   "metadata": {},
   "source": [
    "<H4> Linked list: fast and slow pointer"
   ]
  },
  {
   "cell_type": "code",
   "execution_count": null,
   "id": "c3adb270",
   "metadata": {},
   "outputs": [],
   "source": [
    "def fn(head):\n",
    "    slow = head\n",
    "    fast = head\n",
    "    ans = 0\n",
    "\n",
    "    while fast and fast.next:\n",
    "        # do logic\n",
    "        slow = slow.next\n",
    "        fast = fast.next.next\n",
    "    \n",
    "    return ans"
   ]
  },
  {
   "cell_type": "markdown",
   "id": "3cdb4f82",
   "metadata": {},
   "source": [
    "<H4> Reversing a linked list"
   ]
  },
  {
   "cell_type": "code",
   "execution_count": null,
   "id": "c8e92b9c",
   "metadata": {},
   "outputs": [],
   "source": [
    "def fn(head):\n",
    "    curr = head\n",
    "    prev = None\n",
    "    while curr:\n",
    "        next_node = curr.next\n",
    "        curr.next = prev\n",
    "        prev = curr\n",
    "        curr = next_node \n",
    "        \n",
    "    return prev"
   ]
  },
  {
   "cell_type": "markdown",
   "id": "253dd784",
   "metadata": {},
   "source": [
    "<H4> Find number of subarrays that fit an exact criteria"
   ]
  },
  {
   "cell_type": "code",
   "execution_count": null,
   "id": "ca626f9a",
   "metadata": {},
   "outputs": [],
   "source": [
    "from collections import defaultdict\n",
    "\n",
    "def fn(arr, k):\n",
    "    counts = defaultdict(int)\n",
    "    counts[0] = 1\n",
    "    ans = curr = 0\n",
    "\n",
    "    for num in arr:\n",
    "        # do logic to change curr\n",
    "        ans += counts[curr - k]\n",
    "        counts[curr] += 1\n",
    "    \n",
    "    return ans"
   ]
  },
  {
   "cell_type": "markdown",
   "id": "5f69a3dd",
   "metadata": {},
   "source": [
    "<H4> Monotonic increasing stack </H4>\n",
    "\n",
    "The same logic can be applied to maintain a monotonic queue."
   ]
  },
  {
   "cell_type": "code",
   "execution_count": null,
   "id": "081ce9f3",
   "metadata": {},
   "outputs": [],
   "source": [
    "def fn(arr):\n",
    "    stack = []\n",
    "    ans = 0\n",
    "\n",
    "    for num in arr:\n",
    "        # for monotonic decreasing, just flip the > to <\n",
    "        while stack and stack[-1] > num:\n",
    "            # do logic\n",
    "            stack.pop()\n",
    "        stack.append(num)\n",
    "    \n",
    "    return ans"
   ]
  },
  {
   "cell_type": "markdown",
   "id": "63f346a5",
   "metadata": {},
   "source": [
    "<H4> Binary tree: DFS (recursive)"
   ]
  },
  {
   "cell_type": "code",
   "execution_count": null,
   "id": "80fe02cc",
   "metadata": {},
   "outputs": [],
   "source": [
    "def dfs(root):\n",
    "    if not root:\n",
    "        return\n",
    "    \n",
    "    ans = 0\n",
    "\n",
    "    # do logic\n",
    "    dfs(root.left)\n",
    "    dfs(root.right)\n",
    "    return ans"
   ]
  },
  {
   "cell_type": "markdown",
   "id": "7eea8de4",
   "metadata": {},
   "source": [
    "<H4> Binary tree: DFS (iterative)"
   ]
  },
  {
   "cell_type": "code",
   "execution_count": null,
   "id": "e1189542",
   "metadata": {},
   "outputs": [],
   "source": [
    "def dfs(root):\n",
    "    stack = [root]\n",
    "    ans = 0\n",
    "\n",
    "    while stack:\n",
    "        node = stack.pop()\n",
    "        # do logic\n",
    "        if node.left:\n",
    "            stack.append(node.left)\n",
    "        if node.right:\n",
    "            stack.append(node.right)\n",
    "\n",
    "    return ans"
   ]
  },
  {
   "cell_type": "markdown",
   "id": "eb1ea8ed",
   "metadata": {},
   "source": [
    "<H4> Binary tree: BFS"
   ]
  },
  {
   "cell_type": "code",
   "execution_count": null,
   "id": "9f2cff1f",
   "metadata": {},
   "outputs": [],
   "source": [
    "from collections import deque\n",
    "\n",
    "def fn(root):\n",
    "    queue = deque([root])\n",
    "    ans = 0\n",
    "\n",
    "    while queue:\n",
    "        current_length = len(queue)\n",
    "        # do logic for current level\n",
    "\n",
    "        for _ in range(current_length):\n",
    "            node = queue.popleft()\n",
    "            # do logic\n",
    "            if node.left:\n",
    "                queue.append(node.left)\n",
    "            if node.right:\n",
    "                queue.append(node.right)\n",
    "\n",
    "    return ans"
   ]
  },
  {
   "cell_type": "markdown",
   "id": "0b730c04",
   "metadata": {},
   "source": [
    "<H4>Graph: DFS (recursive)</H4>\n",
    "\n",
    "For the graph templates, assume the nodes are numbered from 0 to n - 1 and the graph is given as an adjacency list. Depending on the problem, you may need to convert the input into an equivalent adjacency list before using the templates."
   ]
  },
  {
   "cell_type": "code",
   "execution_count": null,
   "id": "811b42ae",
   "metadata": {},
   "outputs": [],
   "source": [
    "def fn(graph):\n",
    "    def dfs(node):\n",
    "        ans = 0\n",
    "        # do some logic\n",
    "        for neighbor in graph[node]:\n",
    "            if neighbor not in seen:\n",
    "                seen.add(neighbor)\n",
    "                ans += dfs(neighbor)\n",
    "        \n",
    "        return ans\n",
    "\n",
    "    seen = {START_NODE}\n",
    "    return dfs(START_NODE)"
   ]
  },
  {
   "cell_type": "markdown",
   "id": "b52031a4",
   "metadata": {},
   "source": [
    "<H4> Graph: DFS (iterative) </H4>"
   ]
  },
  {
   "cell_type": "code",
   "execution_count": null,
   "id": "7e3066f5",
   "metadata": {},
   "outputs": [],
   "source": [
    "def fn(graph):\n",
    "    stack = [START_NODE]\n",
    "    seen = {START_NODE}\n",
    "    ans = 0\n",
    "\n",
    "    while stack:\n",
    "        node = stack.pop()\n",
    "        # do some logic\n",
    "        for neighbor in graph[node]:\n",
    "            if neighbor not in seen:\n",
    "                seen.add(neighbor)\n",
    "                stack.append(neighbor)\n",
    "    \n",
    "    return ans"
   ]
  },
  {
   "cell_type": "markdown",
   "id": "7e2d27ec",
   "metadata": {},
   "source": [
    "<H4>Graph: BFS</H4>"
   ]
  },
  {
   "cell_type": "code",
   "execution_count": null,
   "id": "0ea1ff82",
   "metadata": {},
   "outputs": [],
   "source": [
    "from collections import deque\n",
    "\n",
    "def fn(graph):\n",
    "    queue = deque([START_NODE])\n",
    "    seen = {START_NODE}\n",
    "    ans = 0\n",
    "\n",
    "    while queue:\n",
    "        node = queue.popleft()\n",
    "        # do some logic\n",
    "        for neighbor in graph[node]:\n",
    "            if neighbor not in seen:\n",
    "                seen.add(neighbor)\n",
    "                queue.append(neighbor)\n",
    "    \n",
    "    return ans"
   ]
  },
  {
   "cell_type": "markdown",
   "id": "3a440f25",
   "metadata": {},
   "source": [
    "<H4>Find top k elements with heap</H4>"
   ]
  },
  {
   "cell_type": "code",
   "execution_count": null,
   "id": "a75aaff0",
   "metadata": {},
   "outputs": [],
   "source": [
    "import heapq\n",
    "\n",
    "def fn(arr, k):\n",
    "    heap = []\n",
    "    for num in arr:\n",
    "        # do some logic to push onto heap according to problem's criteria\n",
    "        heapq.heappush(heap, (CRITERIA, num))\n",
    "        if len(heap) > k:\n",
    "            heapq.heappop(heap)\n",
    "    \n",
    "    return [num for num in heap]"
   ]
  },
  {
   "cell_type": "markdown",
   "id": "ec9059e6",
   "metadata": {},
   "source": [
    "<H4>Binary search</H4>"
   ]
  },
  {
   "cell_type": "code",
   "execution_count": null,
   "id": "cb93d2f6",
   "metadata": {},
   "outputs": [],
   "source": [
    "def fn(arr, target):\n",
    "    left = 0\n",
    "    right = len(arr) - 1\n",
    "    while left <= right:\n",
    "        mid = (left + right) // 2\n",
    "        if arr[mid] == target:\n",
    "            # do something\n",
    "            return\n",
    "        if arr[mid] > target:\n",
    "            right = mid - 1\n",
    "        else:\n",
    "            left = mid + 1\n",
    "    \n",
    "    # left is the insertion point\n",
    "    return left"
   ]
  },
  {
   "cell_type": "markdown",
   "id": "1da40959",
   "metadata": {},
   "source": [
    "<H4> Binary search: duplicate elements, left-most insertion point</H4>"
   ]
  },
  {
   "cell_type": "code",
   "execution_count": null,
   "id": "63ea90cd",
   "metadata": {},
   "outputs": [],
   "source": [
    "def fn(arr, target):\n",
    "    left = 0\n",
    "    right = len(arr)\n",
    "    while left < right:\n",
    "        mid = (left + right) // 2\n",
    "        if arr[mid] >= target:\n",
    "            right = mid\n",
    "        else:\n",
    "            left = mid + 1\n",
    "\n",
    "    return left"
   ]
  },
  {
   "cell_type": "markdown",
   "id": "f9de2fed",
   "metadata": {},
   "source": [
    "<H4> Binary search: duplicate elements, right-most insertion point"
   ]
  },
  {
   "cell_type": "code",
   "execution_count": null,
   "id": "bad2ecc7",
   "metadata": {},
   "outputs": [],
   "source": [
    "def fn(arr, target):\n",
    "    left = 0\n",
    "    right = len(arr)\n",
    "    while left < right:\n",
    "        mid = (left + right) // 2\n",
    "        if arr[mid] > target:\n",
    "            right = mid\n",
    "        else:\n",
    "            left = mid + 1\n",
    "\n",
    "    return left"
   ]
  },
  {
   "cell_type": "markdown",
   "id": "f3ea0f56",
   "metadata": {},
   "source": [
    "<H4>Binary search: for greedy problems</H4>\n",
    "\n",
    "If looking for a minimum:"
   ]
  },
  {
   "cell_type": "code",
   "execution_count": null,
   "id": "291c9625",
   "metadata": {},
   "outputs": [],
   "source": [
    "def fn(arr):\n",
    "    def check(x):\n",
    "        # this function is implemented depending on the problem\n",
    "        return BOOLEAN\n",
    "\n",
    "    left = MINIMUM_POSSIBLE_ANSWER\n",
    "    right = MAXIMUM_POSSIBLE_ANSWER\n",
    "    while left <= right:\n",
    "        mid = (left + right) // 2\n",
    "        if check(mid):\n",
    "            right = mid - 1\n",
    "        else:\n",
    "            left = mid + 1\n",
    "    \n",
    "    return left"
   ]
  },
  {
   "cell_type": "markdown",
   "id": "8aa92e16",
   "metadata": {},
   "source": [
    "If looking for a maximum:"
   ]
  },
  {
   "cell_type": "code",
   "execution_count": null,
   "id": "720299f3",
   "metadata": {},
   "outputs": [],
   "source": [
    "def fn(arr):\n",
    "    def check(x):\n",
    "        # this function is implemented depending on the problem\n",
    "        return BOOLEAN\n",
    "\n",
    "    left = MINIMUM_POSSIBLE_ANSWER\n",
    "    right = MAXIMUM_POSSIBLE_ANSWER\n",
    "    while left <= right:\n",
    "        mid = (left + right) // 2\n",
    "        if check(mid):\n",
    "            left = mid + 1\n",
    "        else:\n",
    "            right = mid - 1\n",
    "    \n",
    "    return right"
   ]
  },
  {
   "cell_type": "markdown",
   "id": "c1878c4c",
   "metadata": {},
   "source": [
    "<H4> Backtracking"
   ]
  },
  {
   "cell_type": "code",
   "execution_count": null,
   "id": "9cd7a8e7",
   "metadata": {},
   "outputs": [],
   "source": [
    "def backtrack(curr, OTHER_ARGUMENTS):\n",
    "    if (BASE_CASE):\n",
    "        # modify the answer\n",
    "        return\n",
    "    \n",
    "    ans = 0\n",
    "    for (ITERATE_OVER_INPUT):\n",
    "        # modify the current state\n",
    "        ans += backtrack(curr, OTHER_ARGUMENTS)\n",
    "        # undo the modification of the current state\n",
    "    \n",
    "    return ans"
   ]
  },
  {
   "cell_type": "markdown",
   "id": "0b466d4a",
   "metadata": {},
   "source": [
    "<H4>Dynamic programming: top-down memoization"
   ]
  },
  {
   "cell_type": "code",
   "execution_count": null,
   "id": "e8eaa2ea",
   "metadata": {},
   "outputs": [],
   "source": [
    "def fn(arr):\n",
    "    def dp(STATE):\n",
    "        if BASE_CASE:\n",
    "            return 0\n",
    "        \n",
    "        if STATE in memo:\n",
    "            return memo[STATE]\n",
    "        \n",
    "        ans = RECURRENCE_RELATION(STATE)\n",
    "        memo[STATE] = ans\n",
    "        return ans\n",
    "\n",
    "    memo = {}\n",
    "    return dp(STATE_FOR_WHOLE_INPUT)"
   ]
  },
  {
   "cell_type": "markdown",
   "id": "9aa6966f",
   "metadata": {},
   "source": [
    "<H4> Build a trie"
   ]
  },
  {
   "cell_type": "code",
   "execution_count": null,
   "id": "00df799b",
   "metadata": {},
   "outputs": [],
   "source": [
    "# note: using a class is only necessary if you want to store data at each node.\n",
    "# otherwise, you can implement a trie using only hash maps.\n",
    "class TrieNode:\n",
    "    def __init__(self):\n",
    "        # you can store data at nodes if you wish\n",
    "        self.data = None\n",
    "        self.children = {}\n",
    "\n",
    "def fn(words):\n",
    "    root = TrieNode()\n",
    "    for word in words:\n",
    "        curr = root\n",
    "        for c in word:\n",
    "            if c not in curr.children:\n",
    "                curr.children[c] = TrieNode()\n",
    "            curr = curr.children[c]\n",
    "        # at this point, you have a full word at curr\n",
    "        # you can perform more logic here to give curr an attribute if you want\n",
    "    \n",
    "    return root"
   ]
  },
  {
   "cell_type": "markdown",
   "id": "fc9c2a28",
   "metadata": {},
   "source": [
    "<H4> Dijkstra's algorithm"
   ]
  },
  {
   "cell_type": "code",
   "execution_count": null,
   "id": "513da46d",
   "metadata": {},
   "outputs": [],
   "source": [
    "from math import inf\n",
    "from heapq import *\n",
    "\n",
    "distances = [inf] * n\n",
    "distances[source] = 0\n",
    "heap = [(0, source)]\n",
    "\n",
    "while heap:\n",
    "    curr_dist, node = heappop(heap)\n",
    "    if curr_dist > distances[node]:\n",
    "        continue\n",
    "    \n",
    "    for nei, weight in graph[node]:\n",
    "        dist = curr_dist + weight\n",
    "        if dist < distances[nei]:\n",
    "            distances[nei] = dist\n",
    "            heappush(heap, (dist, nei))\n",
    "        "
   ]
  },
  {
   "cell_type": "markdown",
   "id": "7b0c4e3e",
   "metadata": {},
   "source": [
    "<H4> Find K Largest"
   ]
  },
  {
   "cell_type": "code",
   "execution_count": null,
   "id": "5a5c1cfe",
   "metadata": {},
   "outputs": [],
   "source": [
    "def findKthLargest(self, nums: List[int], k: int) -> int:\n",
    "    def qselect(nums: List[int], l: int, r: int, k: int) -> None:\n",
    "        p = partition(nums, l, r)\n",
    "        \n",
    "        if p < k: \n",
    "            return qselect(nums, p + 1, r, k)\n",
    "        if p > k: \n",
    "            return qselect(nums, l, p - 1, k)\n",
    "        \n",
    "        return nums[p]\n",
    "\n",
    "    def partition(nums: List[int], l: int, r: int) -> int:\n",
    "        pivot, p = nums[r], r\n",
    "\n",
    "        i = l\n",
    "        while i < p:\n",
    "            if nums[i] > pivot: \n",
    "                nums[i], nums[p - 1] = nums[p - 1], nums[i]\n",
    "                nums[p], nums[p - 1] = nums[p - 1], nums[p]\n",
    "                i -= 1\n",
    "                p -= 1\n",
    "                \n",
    "            i += 1\n",
    "\n",
    "        return p\n",
    "\n",
    "    return qselect(nums, 0, len(nums) - 1, len(nums) - k):\n",
    "    j = 0, ans\n",
    "    for i in range(nums):\n",
    "        # code using nums[i] to update the state \n",
    "        # that might invalidate the window\n",
    "        while invalid():\n",
    "            # code using nums[j] to update the state\n",
    "            # and shrink the left edge while the window is invalid\n",
    "            j = j+1\n",
    "        # longest window so far = len([i, j])\n",
    "        ans = max(ans, i - j + 1); \n",
    "    \n",
    "    return ans"
   ]
  },
  {
   "cell_type": "markdown",
   "id": "044e5ae8",
   "metadata": {},
   "source": [
    "<H4> Sliding window"
   ]
  },
  {
   "cell_type": "code",
   "execution_count": null,
   "id": "a2fc7777",
   "metadata": {},
   "outputs": [],
   "source": [
    "def longestWindow(nums):\n",
    "    j = 0, ans\n",
    "    for i in range(nums):\n",
    "        # code using nums[i] to update the state \n",
    "        # that might invalidate the window\n",
    "        while invalid():\n",
    "            # code using nums[j] to update the state\n",
    "            # and shrink the left edge while the window is invalid\n",
    "            j = j+1\n",
    "        # longest window so far = len([i, j])\n",
    "        ans = max(ans, i - j + 1); \n",
    "    \n",
    "    return ans"
   ]
  },
  {
   "cell_type": "markdown",
   "id": "b8e766c2",
   "metadata": {},
   "source": [
    "<H4> Non-shrinkable window"
   ]
  },
  {
   "cell_type": "code",
   "execution_count": null,
   "id": "45935c2b",
   "metadata": {},
   "outputs": [],
   "source": [
    "def longestWindow(nums):\n",
    "    i = j = 0;\n",
    "    for i in range(nums):\n",
    "        # code using nums[i] to update the state \n",
    "        # that might invalidate the window\n",
    "        if invalid():\n",
    "            # code using nums[j] to update the state\n",
    "            # and shift the window sideways. \n",
    "            # the window grows if the state is valid \n",
    "            # and shifts if it's invalid.\n",
    "            j = j + 1\n",
    "        \n",
    "    # the maximum size of the window\n",
    "    return i - j"
   ]
  },
  {
   "cell_type": "markdown",
   "id": "c71ef23c",
   "metadata": {},
   "source": [
    "<H4> Matrix DFS"
   ]
  },
  {
   "cell_type": "code",
   "execution_count": null,
   "id": "510f86ad",
   "metadata": {},
   "outputs": [],
   "source": [
    "def dfs(grid: List[List[int]], i: int, j: int, visited: Set[List[int]]):\n",
    "    if i < 0 or j < 0 or i >= len(grid) or \\\n",
    "    j >= len(grid[0]) or (i, j) in visited: return\n",
    "    \n",
    "    visited.add((i, j))\n",
    "    dfs(grid, i + 1, j, visited)\n",
    "    dfs(grid, i - 1, j, visited)\n",
    "    dfs(grid, i, j + 1, visited)\n",
    "    dfs(grid, i, j - 1, visited)"
   ]
  },
  {
   "cell_type": "markdown",
   "id": "c673fc27",
   "metadata": {},
   "source": [
    "<H4> Matrix BFS"
   ]
  },
  {
   "cell_type": "code",
   "execution_count": null,
   "id": "a18b1660",
   "metadata": {},
   "outputs": [],
   "source": [
    "dirs = [ [0,1], [0,-1], [1,0], [-1,0] ]\n",
    "\n",
    "def bfs(grid: List[List[int]], _i: int, _j: int):\n",
    "    q = deque([[_i, _j]])\n",
    "    visited = set([(_i, _j)])\n",
    "    \n",
    "    while q:\n",
    "        cur = q.popleft()\n",
    "\n",
    "        for dir in dirs:\n",
    "            i = cur[0] + dir[0]\n",
    "            j = cur[1] + dir[1]\n",
    "            \n",
    "            if i < 0 or j < 0 or i >= len(grid) or \\\n",
    "            j >= len(grid[0]) or (i, j) in visited: continue\n",
    "            \n",
    "            visited.add((i, j))\n",
    "            q.append([i, j])"
   ]
  },
  {
   "cell_type": "markdown",
   "id": "413324e1",
   "metadata": {},
   "source": [
    "<H4> Find K largest"
   ]
  },
  {
   "cell_type": "code",
   "execution_count": null,
   "id": "f142583d",
   "metadata": {},
   "outputs": [],
   "source": [
    "def findKthLargest(self, nums: List[int], k: int) -> int:\n",
    "    def qselect(nums: List[int], l: int, r: int, k: int) -> None:\n",
    "        p = partition(nums, l, r)\n",
    "        \n",
    "        if p < k: \n",
    "            return qselect(nums, p + 1, r, k)\n",
    "        if p > k: \n",
    "            return qselect(nums, l, p - 1, k)\n",
    "        \n",
    "        return nums[p]\n",
    "\n",
    "    def partition(nums: List[int], l: int, r: int) -> int:\n",
    "        pivot, p = nums[r], r\n",
    "\n",
    "        i = l\n",
    "        while i < p:\n",
    "            if nums[i] > pivot: \n",
    "                nums[i], nums[p - 1] = nums[p - 1], nums[i]\n",
    "                nums[p], nums[p - 1] = nums[p - 1], nums[p]\n",
    "                i -= 1\n",
    "                p -= 1\n",
    "                \n",
    "            i += 1\n",
    "\n",
    "        return p\n",
    "\n",
    "    return qselect(nums, 0, len(nums) - 1, len(nums) - k)"
   ]
  },
  {
   "cell_type": "markdown",
   "id": "14771e16",
   "metadata": {},
   "source": [
    "<H4> Trie"
   ]
  },
  {
   "cell_type": "code",
   "execution_count": null,
   "id": "51313c5a",
   "metadata": {},
   "outputs": [],
   "source": [
    "class TrieNode:\n",
    "    def __init__(self):\n",
    "        self.isWord = False\n",
    "        self.nodes = {}\n",
    "            \n",
    "class Trie:\n",
    "    def __init__(self):\n",
    "        self.root = TrieNode()\n",
    "\n",
    "    # Inserts a word into the trie.\n",
    "    def insert(self, word: str) -> None:\n",
    "        cur = self.root;\n",
    "        \n",
    "        for c in word:\n",
    "            if c not in cur.nodes:\n",
    "                cur.nodes[c] = TrieNode()\n",
    "            cur = cur.nodes[c]\n",
    "            \n",
    "        cur.isWord = True;\n",
    "\n",
    "    # Returns if the word is in the trie\n",
    "    def search(self, word: str) -> bool:\n",
    "        cur = self.root\n",
    "        \n",
    "        for c in word:\n",
    "            if c not in cur.nodes:\n",
    "                return False\n",
    "            cur = cur.nodes[c]\n",
    "            \n",
    "        return cur.isWord\n",
    "    # Returns if there is any word in the trie \n",
    "    # that starts with the given prefix. */\n",
    "    def startsWith(self, prefix: str) -> bool:\n",
    "        cur = self.root\n",
    "        \n",
    "        for c in prefix:\n",
    "            if c not in cur.nodes:\n",
    "                return False\n",
    "            cur = cur.nodes[c]\n",
    "            \n",
    "        return True"
   ]
  },
  {
   "cell_type": "markdown",
   "id": "71723309",
   "metadata": {},
   "source": [
    "<H4> N Sum pattern (This case 4)"
   ]
  },
  {
   "cell_type": "code",
   "execution_count": null,
   "id": "1042aa31",
   "metadata": {},
   "outputs": [],
   "source": [
    "class Solution:\n",
    "    def fourSum(self, nums: List[int], target: int) -> List[List[int]]:\n",
    "        n = len(nums)\n",
    "        nums.sort()\n",
    "        ans = []\n",
    "        res = set()\n",
    "        for i in range(n):\n",
    "            for j in range(i+1,n):\n",
    "                k = j+1\n",
    "                l = n-1\n",
    "                while k<l:\n",
    "                    sum = nums[i]+nums[j]+nums[k]+nums[l]\n",
    "                    if sum == target:\n",
    "                        temp = [nums[i],nums[j],nums[k],nums[l]]\n",
    "                        res.add(tuple(temp))\n",
    "                        k += 1\n",
    "                        l -= 1\n",
    "                    elif sum<target:\n",
    "                        k += 1\n",
    "                    elif sum>target:\n",
    "                        l -= 1\n",
    "        ans = list(res)\n",
    "        return ans"
   ]
  },
  {
   "cell_type": "markdown",
   "id": "9ac76df6",
   "metadata": {},
   "source": [
    "<H4> Island counter"
   ]
  },
  {
   "cell_type": "code",
   "execution_count": null,
   "id": "8a9256a2",
   "metadata": {},
   "outputs": [],
   "source": [
    "class Solution:\n",
    "    def dfs(self, grid: List[List[int]], i: int, j: int, visited: Set[List[int]]):\n",
    "        if i < 0 or j < 0 or i >= len(grid) or \\\n",
    "        j >= len(grid[0]) or visited[i][j] == True or grid[i][j] == 0: \n",
    "            return\n",
    "        visited[i][j] = True\n",
    "        self.dfs(grid, i + 1, j, visited)\n",
    "        self.dfs(grid, i - 1, j, visited)\n",
    "        self.dfs(grid, i, j + 1, visited)\n",
    "        self.dfs(grid, i, j - 1, visited)\n",
    "\n",
    "    def maxAreaOfIsland(self, grid: List[List[int]]) -> int:\n",
    "        visited = [[False for i in range(len(grid[0]))] for j in range(len(grid))]\n",
    "        count = 0 \n",
    "        for i in range(len(grid)):\n",
    "            for j in range(len(grid[0])):\n",
    "                # print(grid[i][j])\n",
    "                if grid[i][j] == 1 and visited[i][j] == False:\n",
    "                    print(\"going\")\n",
    "                    self.dfs(grid, i , j, visited)\n",
    "                    count = count + 1\n",
    "        print(count)\n"
   ]
  },
  {
   "cell_type": "markdown",
   "id": "dec6191b",
   "metadata": {},
   "source": [
    "State vairbales in recursion, Always use a class variable and then reference is using <b>self</b> keyword"
   ]
  },
  {
   "cell_type": "code",
   "execution_count": null,
   "id": "ab042b47",
   "metadata": {},
   "outputs": [],
   "source": [
    "class Solution:\n",
    "    val = 0\n",
    "    def do_something(self):\n",
    "        self.val     #This will use the global variable here\n",
    "        return self.val"
   ]
  },
  {
   "cell_type": "markdown",
   "id": "9145e408",
   "metadata": {},
   "source": [
    "<H4> Max profit : Difference between two elements"
   ]
  },
  {
   "cell_type": "code",
   "execution_count": 3,
   "id": "6e4d1524",
   "metadata": {},
   "outputs": [],
   "source": [
    "from typing import List\n",
    "class Solution:\n",
    "    def maxProfit(self, prices: List[int]) -> int:\n",
    "        min_price = prices[0]\n",
    "        max_profit = 0\n",
    "        \n",
    "        for price in prices[1:]:\n",
    "            max_profit = max(max_profit, price - min_price)\n",
    "            min_price = min(min_price, price)\n",
    "            \n",
    "        return max_profit"
   ]
  },
  {
   "cell_type": "markdown",
   "id": "f6b676b2",
   "metadata": {},
   "source": [
    "<H4> Shortest path in matrix using BFS"
   ]
  },
  {
   "cell_type": "code",
   "execution_count": 1,
   "id": "165c9768",
   "metadata": {},
   "outputs": [
    {
     "ename": "SyntaxError",
     "evalue": "invalid decimal literal (1658663350.py, line 1)",
     "output_type": "error",
     "traceback": [
      "\u001b[0;36m  Cell \u001b[0;32mIn[1], line 1\u001b[0;36m\u001b[0m\n\u001b[0;31m    file:///home/varun/Pictures/Screenshots/Screenshot%20from%202024-07-14%2010-39-36.png\u001b[0m\n\u001b[0m                                                        ^\u001b[0m\n\u001b[0;31mSyntaxError\u001b[0m\u001b[0;31m:\u001b[0m invalid decimal literal\n"
     ]
    }
   ],
   "source": [
    "file:///home/varun/Pictures/Screenshots/Screenshot%20from%202024-07-14%2010-39-36.png"
   ]
  },
  {
   "cell_type": "code",
   "execution_count": null,
   "id": "ec29e7d6",
   "metadata": {},
   "outputs": [],
   "source": [
    "class TrieNode:\n",
    "    def __init__(self):\n",
    "        self.isWord = False\n",
    "        self.nodes = {}\n",
    "            \n",
    "class Trie:\n",
    "    def __init__(self):\n",
    "        self.root = TrieNode()\n",
    "\n",
    "    # Inserts a word into the trie.\n",
    "    def insert(self, word: str) -> None:\n",
    "        cur = self.root;\n",
    "        \n",
    "        for c in word:\n",
    "            if c not in cur.nodes:\n",
    "                cur.nodes[c] = TrieNode()\n",
    "            cur = cur.nodes[c]\n",
    "            \n",
    "        cur.isWord = True;\n",
    "\n",
    "    # Returns if the word is in the trie\n",
    "    def search(self, word: str) -> bool:\n",
    "        cur = self.root\n",
    "        \n",
    "        for c in word:\n",
    "            if c not in cur.nodes:\n",
    "                return False\n",
    "            cur = cur.nodes[c]\n",
    "            \n",
    "        return cur.isWord\n",
    "    # Returns if there is any word in the trie \n",
    "    # that starts with the given prefix. */\n",
    "    def startsWith(self, prefix: str) -> bool:\n",
    "        cur = self.root\n",
    "        \n",
    "        for c in prefix:\n",
    "            if c not in cur.nodes:\n",
    "                return False\n",
    "            cur = cur.nodes[c]\n",
    "            \n",
    "        return True"
   ]
  }
 ],
 "metadata": {
  "kernelspec": {
   "display_name": "Python 3 (ipykernel)",
   "language": "python",
   "name": "python3"
  },
  "language_info": {
   "codemirror_mode": {
    "name": "ipython",
    "version": 3
   },
   "file_extension": ".py",
   "mimetype": "text/x-python",
   "name": "python",
   "nbconvert_exporter": "python",
   "pygments_lexer": "ipython3",
   "version": "3.10.12"
  }
 },
 "nbformat": 4,
 "nbformat_minor": 5
}
